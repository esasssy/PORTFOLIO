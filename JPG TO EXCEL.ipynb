{
 "cells": [
  {
   "cell_type": "code",
   "execution_count": 3,
   "metadata": {},
   "outputs": [
    {
     "name": "stdout",
     "output_type": "stream",
     "text": [
      "Data successfully written to output.xlsx\n"
     ]
    }
   ],
   "source": [
    "import pytesseract\n",
    "from PIL import Image\n",
    "import pandas as pd\n",
    "import os\n",
    "\n",
    "# Ensure pytesseract can find the Tesseract executable\n",
    "pytesseract.pytesseract.tesseract_cmd = r'C:\\Program Files\\Tesseract-OCR\\tesseract.exe'  # Update this path if necessary\n",
    "\n",
    "def jpg_to_text(image_path):\n",
    "    \"\"\"\n",
    "    Extracts text from a JPG image using OCR.\n",
    "\n",
    "    Parameters:\n",
    "        image_path (str): Path to the JPG image.\n",
    "\n",
    "    Returns:\n",
    "        str: Extracted text from the image.\n",
    "    \"\"\"\n",
    "    try:\n",
    "        img = Image.open(image_path)\n",
    "        text = pytesseract.image_to_string(img)\n",
    "        return text\n",
    "    except Exception as e:\n",
    "        print(f\"Error processing file {image_path}: {e}\")\n",
    "        return \"\"\n",
    "\n",
    "def jpg_to_excel(image_paths, excel_path):\n",
    "    \"\"\"\n",
    "    Converts JPG files to an Excel file.\n",
    "\n",
    "    Parameters:\n",
    "        image_paths (list): List of paths to JPG images.\n",
    "        excel_path (str): Path to save the output Excel file.\n",
    "    \"\"\"\n",
    "    data = []\n",
    "    \n",
    "    for image_path in image_paths:\n",
    "        text = jpg_to_text(image_path)\n",
    "        data.append({\"Image\": os.path.basename(image_path), \"Text\": text})\n",
    "\n",
    "    df = pd.DataFrame(data)\n",
    "    df.to_excel(excel_path, index=False)\n",
    "    print(f\"Data successfully written to {excel_path}\")\n",
    "\n",
    "# Example usage\n",
    "image_folder = r'C:\\Users\\ACER\\OneDrive\\Desktop\\intrenshipdata\\state\\bihar'  # Update this path to the folder containing your JPG files\n",
    "image_paths = [os.path.join(image_folder, img) for img in os.listdir(image_folder) if img.endswith('.jpg')]\n",
    "output_excel = 'output.xlsx'\n",
    "\n",
    "jpg_to_excel(image_paths, output_excel)\n"
   ]
  },
  {
   "cell_type": "code",
   "execution_count": 4,
   "metadata": {},
   "outputs": [
    {
     "data": {
      "text/html": [
       "<a href='output.xlsx' target='_blank'>output.xlsx</a><br>"
      ],
      "text/plain": [
       "c:\\Users\\ACER\\AppData\\Local\\Programs\\Microsoft VS Code\\output.xlsx"
      ]
     },
     "execution_count": 4,
     "metadata": {},
     "output_type": "execute_result"
    }
   ],
   "source": [
    "from IPython.display import FileLink\n",
    "FileLink(r'output.xlsx')\n"
   ]
  }
 ],
 "metadata": {
  "kernelspec": {
   "display_name": "Python 3",
   "language": "python",
   "name": "python3"
  },
  "language_info": {
   "codemirror_mode": {
    "name": "ipython",
    "version": 3
   },
   "file_extension": ".py",
   "mimetype": "text/x-python",
   "name": "python",
   "nbconvert_exporter": "python",
   "pygments_lexer": "ipython3",
   "version": "3.11.3"
  }
 },
 "nbformat": 4,
 "nbformat_minor": 2
}
